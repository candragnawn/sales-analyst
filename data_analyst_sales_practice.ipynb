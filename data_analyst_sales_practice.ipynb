{
 "cells": [
  {
   "cell_type": "code",
   "execution_count": 1,
   "id": "acf3ec92-f6ae-4536-aeae-6df235cb9c59",
   "metadata": {},
   "outputs": [],
   "source": [
    "import numpy as np\n",
    "import pandas as pd\n",
    "import matplotlib.pyplot as plt\n"
   ]
  },
  {
   "cell_type": "code",
   "execution_count": 3,
   "id": "342b93da-9448-45b5-baa3-5bf61a3e552a",
   "metadata": {},
   "outputs": [],
   "source": [
    "data = {\n",
    "    'Produk': ['A', 'B', 'C', 'A', 'B', 'C', 'A'],\n",
    "    'Tanggal': ['2025-08-01', '2025-08-01', '2025-08-01', \n",
    "                '2025-08-02', '2025-08-02', '2025-08-02', '2025-08-03'],\n",
    "    'Jumlah_Terjual': [10, 15, 5, 8, 20, 7, 12],\n",
    "    'Harga_Satuan': [10000, 20000, 15000, 10000, 20000, 15000, 10000]\n",
    "}\n",
    "\n"
   ]
  },
  {
   "cell_type": "code",
   "execution_count": 4,
   "id": "3c82f5c3-7dd5-4212-bac8-769df0133782",
   "metadata": {},
   "outputs": [
    {
     "data": {
      "text/html": [
       "<div>\n",
       "<style scoped>\n",
       "    .dataframe tbody tr th:only-of-type {\n",
       "        vertical-align: middle;\n",
       "    }\n",
       "\n",
       "    .dataframe tbody tr th {\n",
       "        vertical-align: top;\n",
       "    }\n",
       "\n",
       "    .dataframe thead th {\n",
       "        text-align: right;\n",
       "    }\n",
       "</style>\n",
       "<table border=\"1\" class=\"dataframe\">\n",
       "  <thead>\n",
       "    <tr style=\"text-align: right;\">\n",
       "      <th></th>\n",
       "      <th>Produk</th>\n",
       "      <th>Tanggal</th>\n",
       "      <th>Jumlah_Terjual</th>\n",
       "      <th>Harga_Satuan</th>\n",
       "    </tr>\n",
       "  </thead>\n",
       "  <tbody>\n",
       "    <tr>\n",
       "      <th>0</th>\n",
       "      <td>A</td>\n",
       "      <td>2025-08-01</td>\n",
       "      <td>10</td>\n",
       "      <td>10000</td>\n",
       "    </tr>\n",
       "    <tr>\n",
       "      <th>1</th>\n",
       "      <td>B</td>\n",
       "      <td>2025-08-01</td>\n",
       "      <td>15</td>\n",
       "      <td>20000</td>\n",
       "    </tr>\n",
       "    <tr>\n",
       "      <th>2</th>\n",
       "      <td>C</td>\n",
       "      <td>2025-08-01</td>\n",
       "      <td>5</td>\n",
       "      <td>15000</td>\n",
       "    </tr>\n",
       "    <tr>\n",
       "      <th>3</th>\n",
       "      <td>A</td>\n",
       "      <td>2025-08-02</td>\n",
       "      <td>8</td>\n",
       "      <td>10000</td>\n",
       "    </tr>\n",
       "    <tr>\n",
       "      <th>4</th>\n",
       "      <td>B</td>\n",
       "      <td>2025-08-02</td>\n",
       "      <td>20</td>\n",
       "      <td>20000</td>\n",
       "    </tr>\n",
       "    <tr>\n",
       "      <th>5</th>\n",
       "      <td>C</td>\n",
       "      <td>2025-08-02</td>\n",
       "      <td>7</td>\n",
       "      <td>15000</td>\n",
       "    </tr>\n",
       "    <tr>\n",
       "      <th>6</th>\n",
       "      <td>A</td>\n",
       "      <td>2025-08-03</td>\n",
       "      <td>12</td>\n",
       "      <td>10000</td>\n",
       "    </tr>\n",
       "  </tbody>\n",
       "</table>\n",
       "</div>"
      ],
      "text/plain": [
       "  Produk     Tanggal  Jumlah_Terjual  Harga_Satuan\n",
       "0      A  2025-08-01              10         10000\n",
       "1      B  2025-08-01              15         20000\n",
       "2      C  2025-08-01               5         15000\n",
       "3      A  2025-08-02               8         10000\n",
       "4      B  2025-08-02              20         20000\n",
       "5      C  2025-08-02               7         15000\n",
       "6      A  2025-08-03              12         10000"
      ]
     },
     "execution_count": 4,
     "metadata": {},
     "output_type": "execute_result"
    }
   ],
   "source": [
    "df = pd.DataFrame(data)\n",
    "df"
   ]
  },
  {
   "cell_type": "code",
   "execution_count": 5,
   "id": "aed24e3d-93ff-4819-b087-c296aa783b51",
   "metadata": {},
   "outputs": [
    {
     "data": {
      "text/html": [
       "<div>\n",
       "<style scoped>\n",
       "    .dataframe tbody tr th:only-of-type {\n",
       "        vertical-align: middle;\n",
       "    }\n",
       "\n",
       "    .dataframe tbody tr th {\n",
       "        vertical-align: top;\n",
       "    }\n",
       "\n",
       "    .dataframe thead th {\n",
       "        text-align: right;\n",
       "    }\n",
       "</style>\n",
       "<table border=\"1\" class=\"dataframe\">\n",
       "  <thead>\n",
       "    <tr style=\"text-align: right;\">\n",
       "      <th></th>\n",
       "      <th>Produk</th>\n",
       "      <th>Tanggal</th>\n",
       "      <th>Jumlah_Terjual</th>\n",
       "      <th>Harga_Satuan</th>\n",
       "      <th>Total</th>\n",
       "    </tr>\n",
       "  </thead>\n",
       "  <tbody>\n",
       "    <tr>\n",
       "      <th>0</th>\n",
       "      <td>A</td>\n",
       "      <td>2025-08-01</td>\n",
       "      <td>10</td>\n",
       "      <td>10000</td>\n",
       "      <td>100000</td>\n",
       "    </tr>\n",
       "    <tr>\n",
       "      <th>1</th>\n",
       "      <td>B</td>\n",
       "      <td>2025-08-01</td>\n",
       "      <td>15</td>\n",
       "      <td>20000</td>\n",
       "      <td>300000</td>\n",
       "    </tr>\n",
       "    <tr>\n",
       "      <th>2</th>\n",
       "      <td>C</td>\n",
       "      <td>2025-08-01</td>\n",
       "      <td>5</td>\n",
       "      <td>15000</td>\n",
       "      <td>75000</td>\n",
       "    </tr>\n",
       "    <tr>\n",
       "      <th>3</th>\n",
       "      <td>A</td>\n",
       "      <td>2025-08-02</td>\n",
       "      <td>8</td>\n",
       "      <td>10000</td>\n",
       "      <td>80000</td>\n",
       "    </tr>\n",
       "    <tr>\n",
       "      <th>4</th>\n",
       "      <td>B</td>\n",
       "      <td>2025-08-02</td>\n",
       "      <td>20</td>\n",
       "      <td>20000</td>\n",
       "      <td>400000</td>\n",
       "    </tr>\n",
       "    <tr>\n",
       "      <th>5</th>\n",
       "      <td>C</td>\n",
       "      <td>2025-08-02</td>\n",
       "      <td>7</td>\n",
       "      <td>15000</td>\n",
       "      <td>105000</td>\n",
       "    </tr>\n",
       "    <tr>\n",
       "      <th>6</th>\n",
       "      <td>A</td>\n",
       "      <td>2025-08-03</td>\n",
       "      <td>12</td>\n",
       "      <td>10000</td>\n",
       "      <td>120000</td>\n",
       "    </tr>\n",
       "  </tbody>\n",
       "</table>\n",
       "</div>"
      ],
      "text/plain": [
       "  Produk     Tanggal  Jumlah_Terjual  Harga_Satuan   Total\n",
       "0      A  2025-08-01              10         10000  100000\n",
       "1      B  2025-08-01              15         20000  300000\n",
       "2      C  2025-08-01               5         15000   75000\n",
       "3      A  2025-08-02               8         10000   80000\n",
       "4      B  2025-08-02              20         20000  400000\n",
       "5      C  2025-08-02               7         15000  105000\n",
       "6      A  2025-08-03              12         10000  120000"
      ]
     },
     "execution_count": 5,
     "metadata": {},
     "output_type": "execute_result"
    }
   ],
   "source": [
    "df['Total'] = df['Jumlah_Terjual'] * df['Harga_Satuan']\n",
    "df\n"
   ]
  },
  {
   "cell_type": "code",
   "execution_count": 6,
   "id": "bc9a8667-2ee1-4d14-866e-199affb24931",
   "metadata": {},
   "outputs": [
    {
     "name": "stdout",
     "output_type": "stream",
     "text": [
      "Tanggal\n",
      "2025-08-01    475000\n",
      "2025-08-02    585000\n",
      "2025-08-03    120000\n",
      "Name: Total, dtype: int64\n"
     ]
    }
   ],
   "source": [
    "pendapatan_perhari = df.groupby('Tanggal')['Total'].sum()\n",
    "print(pendapatan_perhari)"
   ]
  },
  {
   "cell_type": "code",
   "execution_count": 7,
   "id": "6c6c072d-cc48-4d14-bd55-ec7a0acf7ac3",
   "metadata": {},
   "outputs": [
    {
     "name": "stdout",
     "output_type": "stream",
     "text": [
      "Produk\n",
      "A    30\n",
      "B    35\n",
      "C    12\n",
      "Name: Jumlah_Terjual, dtype: int64\n"
     ]
    }
   ],
   "source": [
    "produk_terlaris = df.groupby('Produk')['Jumlah_Terjual'].sum()\n",
    "print(produk_terlaris)"
   ]
  },
  {
   "cell_type": "code",
   "execution_count": 8,
   "id": "694dcbb5-8bbe-4026-8d82-c512a7add753",
   "metadata": {},
   "outputs": [
    {
     "data": {
      "text/html": [
       "<div>\n",
       "<style scoped>\n",
       "    .dataframe tbody tr th:only-of-type {\n",
       "        vertical-align: middle;\n",
       "    }\n",
       "\n",
       "    .dataframe tbody tr th {\n",
       "        vertical-align: top;\n",
       "    }\n",
       "\n",
       "    .dataframe thead th {\n",
       "        text-align: right;\n",
       "    }\n",
       "</style>\n",
       "<table border=\"1\" class=\"dataframe\">\n",
       "  <thead>\n",
       "    <tr style=\"text-align: right;\">\n",
       "      <th></th>\n",
       "      <th>Produk</th>\n",
       "      <th>Tanggal</th>\n",
       "      <th>Jumlah_Terjual</th>\n",
       "      <th>Harga_Satuan</th>\n",
       "      <th>Total</th>\n",
       "      <th>rata_penjualan</th>\n",
       "    </tr>\n",
       "  </thead>\n",
       "  <tbody>\n",
       "    <tr>\n",
       "      <th>0</th>\n",
       "      <td>A</td>\n",
       "      <td>2025-08-01</td>\n",
       "      <td>10</td>\n",
       "      <td>10000</td>\n",
       "      <td>100000</td>\n",
       "      <td>10.0</td>\n",
       "    </tr>\n",
       "    <tr>\n",
       "      <th>1</th>\n",
       "      <td>B</td>\n",
       "      <td>2025-08-01</td>\n",
       "      <td>15</td>\n",
       "      <td>20000</td>\n",
       "      <td>300000</td>\n",
       "      <td>18.0</td>\n",
       "    </tr>\n",
       "    <tr>\n",
       "      <th>2</th>\n",
       "      <td>C</td>\n",
       "      <td>2025-08-01</td>\n",
       "      <td>5</td>\n",
       "      <td>15000</td>\n",
       "      <td>75000</td>\n",
       "      <td>6.0</td>\n",
       "    </tr>\n",
       "    <tr>\n",
       "      <th>3</th>\n",
       "      <td>A</td>\n",
       "      <td>2025-08-02</td>\n",
       "      <td>8</td>\n",
       "      <td>10000</td>\n",
       "      <td>80000</td>\n",
       "      <td>10.0</td>\n",
       "    </tr>\n",
       "    <tr>\n",
       "      <th>4</th>\n",
       "      <td>B</td>\n",
       "      <td>2025-08-02</td>\n",
       "      <td>20</td>\n",
       "      <td>20000</td>\n",
       "      <td>400000</td>\n",
       "      <td>18.0</td>\n",
       "    </tr>\n",
       "    <tr>\n",
       "      <th>5</th>\n",
       "      <td>C</td>\n",
       "      <td>2025-08-02</td>\n",
       "      <td>7</td>\n",
       "      <td>15000</td>\n",
       "      <td>105000</td>\n",
       "      <td>6.0</td>\n",
       "    </tr>\n",
       "    <tr>\n",
       "      <th>6</th>\n",
       "      <td>A</td>\n",
       "      <td>2025-08-03</td>\n",
       "      <td>12</td>\n",
       "      <td>10000</td>\n",
       "      <td>120000</td>\n",
       "      <td>10.0</td>\n",
       "    </tr>\n",
       "  </tbody>\n",
       "</table>\n",
       "</div>"
      ],
      "text/plain": [
       "  Produk     Tanggal  Jumlah_Terjual  Harga_Satuan   Total  rata_penjualan\n",
       "0      A  2025-08-01              10         10000  100000            10.0\n",
       "1      B  2025-08-01              15         20000  300000            18.0\n",
       "2      C  2025-08-01               5         15000   75000             6.0\n",
       "3      A  2025-08-02               8         10000   80000            10.0\n",
       "4      B  2025-08-02              20         20000  400000            18.0\n",
       "5      C  2025-08-02               7         15000  105000             6.0\n",
       "6      A  2025-08-03              12         10000  120000            10.0"
      ]
     },
     "execution_count": 8,
     "metadata": {},
     "output_type": "execute_result"
    }
   ],
   "source": [
    "df ['rata_penjualan'] = df.groupby('Produk')['Jumlah_Terjual'].transform('mean').round()\n",
    "df"
   ]
  },
  {
   "cell_type": "code",
   "execution_count": 9,
   "id": "c4ffe838-f1d6-4c14-b9ea-8e7167b0e1cf",
   "metadata": {},
   "outputs": [
    {
     "data": {
      "text/html": [
       "<div>\n",
       "<style scoped>\n",
       "    .dataframe tbody tr th:only-of-type {\n",
       "        vertical-align: middle;\n",
       "    }\n",
       "\n",
       "    .dataframe tbody tr th {\n",
       "        vertical-align: top;\n",
       "    }\n",
       "\n",
       "    .dataframe thead th {\n",
       "        text-align: right;\n",
       "    }\n",
       "</style>\n",
       "<table border=\"1\" class=\"dataframe\">\n",
       "  <thead>\n",
       "    <tr style=\"text-align: right;\">\n",
       "      <th></th>\n",
       "      <th>Produk</th>\n",
       "      <th>Tanggal</th>\n",
       "      <th>Jumlah_Terjual</th>\n",
       "      <th>Harga_Satuan</th>\n",
       "      <th>Total</th>\n",
       "      <th>rata_penjualan</th>\n",
       "    </tr>\n",
       "  </thead>\n",
       "  <tbody>\n",
       "    <tr>\n",
       "      <th>1</th>\n",
       "      <td>B</td>\n",
       "      <td>2025-08-01</td>\n",
       "      <td>15</td>\n",
       "      <td>20000</td>\n",
       "      <td>300000</td>\n",
       "      <td>18.0</td>\n",
       "    </tr>\n",
       "    <tr>\n",
       "      <th>4</th>\n",
       "      <td>B</td>\n",
       "      <td>2025-08-02</td>\n",
       "      <td>20</td>\n",
       "      <td>20000</td>\n",
       "      <td>400000</td>\n",
       "      <td>18.0</td>\n",
       "    </tr>\n",
       "    <tr>\n",
       "      <th>6</th>\n",
       "      <td>A</td>\n",
       "      <td>2025-08-03</td>\n",
       "      <td>12</td>\n",
       "      <td>10000</td>\n",
       "      <td>120000</td>\n",
       "      <td>10.0</td>\n",
       "    </tr>\n",
       "  </tbody>\n",
       "</table>\n",
       "</div>"
      ],
      "text/plain": [
       "  Produk     Tanggal  Jumlah_Terjual  Harga_Satuan   Total  rata_penjualan\n",
       "1      B  2025-08-01              15         20000  300000            18.0\n",
       "4      B  2025-08-02              20         20000  400000            18.0\n",
       "6      A  2025-08-03              12         10000  120000            10.0"
      ]
     },
     "execution_count": 9,
     "metadata": {},
     "output_type": "execute_result"
    }
   ],
   "source": [
    "penjualan_diatas_10 = df[df['Jumlah_Terjual']>10]\n",
    "penjualan_diatas_10"
   ]
  },
  {
   "cell_type": "code",
   "execution_count": 10,
   "id": "90c151a1-6c8d-4c17-a6c2-ea374fe12f42",
   "metadata": {},
   "outputs": [
    {
     "name": "stdout",
     "output_type": "stream",
     "text": [
      "Produk                    object\n",
      "Tanggal           datetime64[ns]\n",
      "Jumlah_Terjual             int64\n",
      "Harga_Satuan               int64\n",
      "Total                      int64\n",
      "rata_penjualan           float64\n",
      "dtype: object\n"
     ]
    }
   ],
   "source": [
    "df['Tanggal'] = pd.to_datetime(df['Tanggal'], dayfirst = 'True')\n",
    "print(df.dtypes)"
   ]
  },
  {
   "cell_type": "code",
   "execution_count": 11,
   "id": "0257542c-3280-4796-98a8-31d6f2f8e34a",
   "metadata": {},
   "outputs": [
    {
     "data": {
      "text/html": [
       "<div>\n",
       "<style scoped>\n",
       "    .dataframe tbody tr th:only-of-type {\n",
       "        vertical-align: middle;\n",
       "    }\n",
       "\n",
       "    .dataframe tbody tr th {\n",
       "        vertical-align: top;\n",
       "    }\n",
       "\n",
       "    .dataframe thead th {\n",
       "        text-align: right;\n",
       "    }\n",
       "</style>\n",
       "<table border=\"1\" class=\"dataframe\">\n",
       "  <thead>\n",
       "    <tr style=\"text-align: right;\">\n",
       "      <th></th>\n",
       "      <th>Produk</th>\n",
       "      <th>Tanggal</th>\n",
       "      <th>Jumlah_Terjual</th>\n",
       "      <th>Harga_Satuan</th>\n",
       "      <th>Total</th>\n",
       "      <th>rata_penjualan</th>\n",
       "    </tr>\n",
       "  </thead>\n",
       "  <tbody>\n",
       "    <tr>\n",
       "      <th>1</th>\n",
       "      <td>B</td>\n",
       "      <td>2025-01-08</td>\n",
       "      <td>15</td>\n",
       "      <td>20000</td>\n",
       "      <td>300000</td>\n",
       "      <td>18.0</td>\n",
       "    </tr>\n",
       "    <tr>\n",
       "      <th>4</th>\n",
       "      <td>B</td>\n",
       "      <td>2025-02-08</td>\n",
       "      <td>20</td>\n",
       "      <td>20000</td>\n",
       "      <td>400000</td>\n",
       "      <td>18.0</td>\n",
       "    </tr>\n",
       "  </tbody>\n",
       "</table>\n",
       "</div>"
      ],
      "text/plain": [
       "  Produk    Tanggal  Jumlah_Terjual  Harga_Satuan   Total  rata_penjualan\n",
       "1      B 2025-01-08              15         20000  300000            18.0\n",
       "4      B 2025-02-08              20         20000  400000            18.0"
      ]
     },
     "execution_count": 11,
     "metadata": {},
     "output_type": "execute_result"
    }
   ],
   "source": [
    "produk_B = df[df['Produk'] == 'B' ]\n",
    "produk_B"
   ]
  },
  {
   "cell_type": "code",
   "execution_count": 15,
   "id": "4fed30a0-fcca-4a3b-8b89-5d34803fd9dd",
   "metadata": {},
   "outputs": [
    {
     "data": {
      "text/html": [
       "<div>\n",
       "<style scoped>\n",
       "    .dataframe tbody tr th:only-of-type {\n",
       "        vertical-align: middle;\n",
       "    }\n",
       "\n",
       "    .dataframe tbody tr th {\n",
       "        vertical-align: top;\n",
       "    }\n",
       "\n",
       "    .dataframe thead th {\n",
       "        text-align: right;\n",
       "    }\n",
       "</style>\n",
       "<table border=\"1\" class=\"dataframe\">\n",
       "  <thead>\n",
       "    <tr style=\"text-align: right;\">\n",
       "      <th></th>\n",
       "      <th>Produk</th>\n",
       "      <th>Tanggal</th>\n",
       "      <th>Jumlah_Terjual</th>\n",
       "      <th>Harga_Satuan</th>\n",
       "      <th>Total</th>\n",
       "      <th>rata_penjualan</th>\n",
       "    </tr>\n",
       "  </thead>\n",
       "  <tbody>\n",
       "    <tr>\n",
       "      <th>0</th>\n",
       "      <td>A</td>\n",
       "      <td>2025-01-08</td>\n",
       "      <td>10</td>\n",
       "      <td>10000</td>\n",
       "      <td>100000</td>\n",
       "      <td>10.0</td>\n",
       "    </tr>\n",
       "    <tr>\n",
       "      <th>1</th>\n",
       "      <td>B</td>\n",
       "      <td>2025-01-08</td>\n",
       "      <td>15</td>\n",
       "      <td>20000</td>\n",
       "      <td>300000</td>\n",
       "      <td>18.0</td>\n",
       "    </tr>\n",
       "    <tr>\n",
       "      <th>2</th>\n",
       "      <td>C</td>\n",
       "      <td>2025-01-08</td>\n",
       "      <td>5</td>\n",
       "      <td>15000</td>\n",
       "      <td>75000</td>\n",
       "      <td>6.0</td>\n",
       "    </tr>\n",
       "    <tr>\n",
       "      <th>3</th>\n",
       "      <td>A</td>\n",
       "      <td>2025-02-08</td>\n",
       "      <td>8</td>\n",
       "      <td>10000</td>\n",
       "      <td>80000</td>\n",
       "      <td>10.0</td>\n",
       "    </tr>\n",
       "    <tr>\n",
       "      <th>4</th>\n",
       "      <td>B</td>\n",
       "      <td>2025-02-08</td>\n",
       "      <td>20</td>\n",
       "      <td>20000</td>\n",
       "      <td>400000</td>\n",
       "      <td>18.0</td>\n",
       "    </tr>\n",
       "  </tbody>\n",
       "</table>\n",
       "</div>"
      ],
      "text/plain": [
       "  Produk    Tanggal  Jumlah_Terjual  Harga_Satuan   Total  rata_penjualan\n",
       "0      A 2025-01-08              10         10000  100000            10.0\n",
       "1      B 2025-01-08              15         20000  300000            18.0\n",
       "2      C 2025-01-08               5         15000   75000             6.0\n",
       "3      A 2025-02-08               8         10000   80000            10.0\n",
       "4      B 2025-02-08              20         20000  400000            18.0"
      ]
     },
     "execution_count": 15,
     "metadata": {},
     "output_type": "execute_result"
    }
   ],
   "source": [
    "df.head()\n"
   ]
  },
  {
   "cell_type": "code",
   "execution_count": 44,
   "id": "cf0b0fc6-cb90-4ce4-b778-232286c8c216",
   "metadata": {},
   "outputs": [
    {
     "name": "stdout",
     "output_type": "stream",
     "text": [
      "Produk\n",
      "A    30\n",
      "B    35\n",
      "C    12\n",
      "Name: Jumlah_Terjual, dtype: int64\n"
     ]
    }
   ],
   "source": [
    "total_per_produk = df.groupby('Produk')['Jumlah_Terjual'].sum()\n",
    "\n"
   ]
  },
  {
   "cell_type": "code",
   "execution_count": 55,
   "id": "5a2df352-bfb1-471b-81ba-73b9e4bba2c6",
   "metadata": {},
   "outputs": [
    {
     "data": {
      "image/png": "[encoded data removed]",
      "text/plain": [
       "<Figure size 1000x600 with 1 Axes>"
      ]
     },
     "metadata": {},
     "output_type": "display_data"
    }
   ],
   "source": [
    "\n",
    "grouped = df.groupby('Produk')['Jumlah_Terjual'].sum()\n",
    "\n",
    "plt.figure(figsize=(10,6))\n",
    "plt.plot(grouped.index, grouped.values, color='skyblue')\n",
    "plt.title(\"Jumlah Terjual per Produk\")\n",
    "plt.xlabel(\"Produk\")\n",
    "plt.ylabel(\"Jumlah Terjual\")\n",
    "plt.grid(True)\n",
    "plt.show()\n"
   ]
  },
  {
   "cell_type": "code",
   "execution_count": 62,
   "id": "39ccea78-1472-4ac7-86b8-7965480179e7",
   "metadata": {
    "scrolled": true
   },
   "outputs": [
    {
     "data": {
      "image/png": "[encoded data removed]",
      "text/plain": [
       "<Figure size 1200x900 with 1 Axes>"
      ]
     },
     "metadata": {},
     "output_type": "display_data"
    }
   ],
   "source": [
    "rata = df.groupby('Produk')['rata_penjualan'].mean()\n",
    "plt.figure(figsize=(12,9))\n",
    "plt.bar(rata.index, rata.values, color='skyblue')\n",
    "plt.title(\"Rata-rata Penjualan\")\n",
    "plt.xlabel('Produk')\n",
    "plt.ylabel('rata_penjualan')\n",
    "plt.grid(True)\n",
    "plt.show()"
   ]
  },
  {
   "cell_type": "code",
   "execution_count": 13,
   "id": "04b6aedf-b0e8-48fc-9270-06debb74d3a7",
   "metadata": {},
   "outputs": [
    {
     "ename": "SyntaxError",
     "evalue": "invalid syntax (3267156505.py, line 2)",
     "output_type": "error",
     "traceback": [
      "  \u001b[36mCell\u001b[39m\u001b[36m \u001b[39m\u001b[32mIn[13]\u001b[39m\u001b[32m, line 2\u001b[39m\n\u001b[31m    \u001b[39m\u001b[31m- Total pendapatan per hari berhasil dihitung.\u001b[39m\n            ^\n\u001b[31mSyntaxError\u001b[39m\u001b[31m:\u001b[39m invalid syntax\n"
     ]
    }
   ],
   "source": [
    "summary\n",
    "- Total pendapatan per hari berhasil dihitung.\n",
    "- Produk dengan penjualan terbanyak adalah produk B 35 buah\n",
    "- Rata-rata penjualan per produk telah ditampilkan.\n",
    "- Filter penjualan > 10 unit berhasil diterapkan.\n",
    "- Format tanggal telah dikonversi ke datetime.\n",
    "- Data penjualan khusus produk B sudah difilter."
   ]
  },
  {
   "cell_type": "code",
   "execution_count": null,
   "id": "bfe0f231-5c4a-4054-8a15-7ffe5251d9f7",
   "metadata": {},
   "outputs": [],
   "source": []
  },
  {
   "cell_type": "code",
   "execution_count": null,
   "id": "03dfb2d2-90e5-4e34-b44d-d6f8abf73b2a",
   "metadata": {},
   "outputs": [],
   "source": []
  },
  {
   "cell_type": "code",
   "execution_count": null,
   "id": "79892b01-b7f0-4d47-a1d1-4ff048a06edb",
   "metadata": {},
   "outputs": [],
   "source": []
  },
  {
   "cell_type": "code",
   "execution_count": null,
   "id": "09892801-b0b1-4d61-9ed3-f6b5d0afedba",
   "metadata": {},
   "outputs": [],
   "source": []
  }
 ],
 "metadata": {
  "kernelspec": {
   "display_name": "Python 3 (ipykernel)",
   "language": "python",
   "name": "python3"
  },
  "language_info": {
   "codemirror_mode": {
    "name": "ipython",
    "version": 3
   },
   "file_extension": ".py",
   "mimetype": "text/x-python",
   "name": "python",
   "nbconvert_exporter": "python",
   "pygments_lexer": "ipython3",
   "version": "3.13.5"
  }
 },
 "nbformat": 4,
 "nbformat_minor": 5
}
